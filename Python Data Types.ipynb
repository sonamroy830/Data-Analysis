{
 "cells": [
  {
   "cell_type": "markdown",
   "id": "34efb708",
   "metadata": {},
   "source": [
    "# List"
   ]
  },
  {
   "cell_type": "markdown",
   "id": "2dc58440",
   "metadata": {},
   "source": [
    "1. Insertion order is preserved.\n",
    "2. Heterogeneous objects are allowed.\n",
    "3. Duplicates are allowed.\n",
    "4. Dynamic in nature. i.e., based on our requirement you can add or remove the elements of the list.\n",
    "5. lists can be represented by using square brackets [ ]\n",
    "6. Indexing concept is applicable.\n",
    "7. Slicing concept is applicable.\n",
    "8. List is mutable (i.e., we can chnage the content of the list. It is acceptable).\n"
   ]
  },
  {
   "cell_type": "markdown",
   "id": "b854ac1b",
   "metadata": {},
   "source": [
    "# Creatiing a list"
   ]
  },
  {
   "cell_type": "code",
   "execution_count": 1,
   "id": "8a175d17",
   "metadata": {},
   "outputs": [],
   "source": [
    "list = [] # we are creating an empty list"
   ]
  },
  {
   "cell_type": "markdown",
   "id": "9da10ffc",
   "metadata": {},
   "source": [
    "# Add an element to the list using append() method.\n"
   ]
  },
  {
   "cell_type": "code",
   "execution_count": 1,
   "id": "0d27547d",
   "metadata": {},
   "outputs": [
    {
     "name": "stdout",
     "output_type": "stream",
     "text": [
      "[10, 20, 30, 40]\n"
     ]
    }
   ],
   "source": [
    "list = []\n",
    "list.append(10)\n",
    "list.append(20)\n",
    "list.append(30)\n",
    "list.append(40)\n",
    "print(list)"
   ]
  },
  {
   "cell_type": "markdown",
   "id": "b0974ff5",
   "metadata": {},
   "source": [
    "# Remove an element to the list using remove() method."
   ]
  },
  {
   "cell_type": "code",
   "execution_count": 3,
   "id": "1c1738d6",
   "metadata": {},
   "outputs": [
    {
     "name": "stdout",
     "output_type": "stream",
     "text": [
      "[10, 20, 40]\n"
     ]
    }
   ],
   "source": [
    "list = [10,20,30,40]\n",
    "list.remove(30)\n",
    "print(list)"
   ]
  },
  {
   "cell_type": "markdown",
   "id": "4264ad29",
   "metadata": {},
   "source": [
    "# Modified an element to the list "
   ]
  },
  {
   "cell_type": "code",
   "execution_count": 4,
   "id": "a03b03df",
   "metadata": {},
   "outputs": [
    {
     "name": "stdout",
     "output_type": "stream",
     "text": [
      "[7777, 20, 30, 40]\n"
     ]
    }
   ],
   "source": [
    "list = [10,20,30,40]\n",
    "list[0] = 7777\n",
    "print(list)"
   ]
  },
  {
   "cell_type": "markdown",
   "id": "700af0d8",
   "metadata": {},
   "source": [
    "# Dictionary"
   ]
  },
  {
   "cell_type": "markdown",
   "id": "542467a9",
   "metadata": {},
   "source": [
    "1. If you want to represent a group of values as key-value pairs then we should go for dict data type.\n",
    "\n",
    "2. Order is not applicable.\n",
    "\n",
    "3. Duplicate keys are not allowed but values can be duplicated.\n",
    "\n",
    "4. If we are trying to insert an entry with duplicate key then old value will be replaced with new value.\n",
    "\n",
    "5. Heterogeneous objects are allowed.\n",
    "\n",
    "6. It is mutable.\n",
    "\n",
    "7. Indexing, slicing is not applicable."
   ]
  },
  {
   "cell_type": "markdown",
   "id": "6215578c",
   "metadata": {},
   "source": [
    "In general, In our english dictionary we found,\n",
    "\n",
    "Word : Meaning\n",
    "\n",
    "The same thing will happensin Python dictionary also."
   ]
  },
  {
   "cell_type": "markdown",
   "id": "8b56096b",
   "metadata": {},
   "source": [
    "Key points with respect to Dictionary:\n",
    "    \n",
    "1. Duplicate keys are not allowed but values can be duplicated.\n",
    "\n",
    "2. If we are trying to insert an entry with duplicate key then old value will be replaced with new value."
   ]
  },
  {
   "cell_type": "markdown",
   "id": "045b9c42",
   "metadata": {},
   "source": [
    "# Creating a Dictionary\n"
   ]
  },
  {
   "cell_type": "markdown",
   "id": "71ce918c",
   "metadata": {},
   "source": [
    "d = {key1 : value1, key2 : value2, key3 : value3}\n",
    "\n",
    "You van take any number of key-value pairs\n",
    "\n",
    "dictionaryName[key] = value\n"
   ]
  },
  {
   "cell_type": "code",
   "execution_count": 7,
   "id": "58cdbd12",
   "metadata": {},
   "outputs": [
    {
     "name": "stdout",
     "output_type": "stream",
     "text": [
      "<class 'dict'>\n"
     ]
    }
   ],
   "source": [
    "d = dict()\n",
    "print(type(d))\n"
   ]
  },
  {
   "cell_type": "code",
   "execution_count": 8,
   "id": "5ddaca17",
   "metadata": {},
   "outputs": [
    {
     "name": "stdout",
     "output_type": "stream",
     "text": [
      "{100: 'karthi', 200: 'sahasra', 300: 'sri', 'rgm': 'Nandyal'}\n"
     ]
    }
   ],
   "source": [
    "d[100]=\"karthi\"\n",
    "d[200]=\"sahasra\"\n",
    "d[300]=\"sri\"\n",
    "d['rgm'] = 'Nandyal'\n",
    "print(d) #{100: 'karthi', 200: 'sahasra', 300: 'sri', 'rgm' : 'Nandyal'}\n"
   ]
  },
  {
   "cell_type": "markdown",
   "id": "2ec864c6",
   "metadata": {},
   "source": [
    "# Adding  an item  to a dictionary"
   ]
  },
  {
   "cell_type": "markdown",
   "id": "8e3b1067",
   "metadata": {},
   "source": [
    "Adding an item to the dictionary is done by using a new index key and assigning a value to it:"
   ]
  },
  {
   "cell_type": "code",
   "execution_count": 2,
   "id": "c96b2fbb",
   "metadata": {},
   "outputs": [
    {
     "name": "stdout",
     "output_type": "stream",
     "text": [
      "{'brand': 'Ford', 'model': 'Mustang', 'year': 1964, 'color': 'red'}\n"
     ]
    }
   ],
   "source": [
    "thisdict = {\n",
    "  \"brand\": \"Ford\",\n",
    "  \"model\": \"Mustang\",\n",
    "  \"year\": 1964\n",
    "}\n",
    "thisdict[\"color\"] = \"red\"\n",
    "print(thisdict)"
   ]
  },
  {
   "cell_type": "markdown",
   "id": "4fec992e",
   "metadata": {},
   "source": [
    "# Deleting the elements from Dictionary"
   ]
  },
  {
   "cell_type": "markdown",
   "id": "e80efeca",
   "metadata": {},
   "source": [
    "Syntax :\n",
    "\n",
    "del d[key]\n",
    "\n",
    "It deletes entry associated with the specified key.\n",
    "\n",
    "If the key is not available then we will get KeyError.\n"
   ]
  },
  {
   "cell_type": "code",
   "execution_count": 11,
   "id": "bafa6d86",
   "metadata": {},
   "outputs": [
    {
     "name": "stdout",
     "output_type": "stream",
     "text": [
      "{100: 'karthi', 200: 'sahasra', 300: 'sri'}\n",
      "{200: 'sahasra', 300: 'sri'}\n"
     ]
    },
    {
     "ename": "KeyError",
     "evalue": "400",
     "output_type": "error",
     "traceback": [
      "\u001b[1;31m---------------------------------------------------------------------------\u001b[0m",
      "\u001b[1;31mKeyError\u001b[0m                                  Traceback (most recent call last)",
      "Cell \u001b[1;32mIn[11], line 5\u001b[0m\n\u001b[0;32m      3\u001b[0m \u001b[38;5;28;01mdel\u001b[39;00m d[\u001b[38;5;241m100\u001b[39m]\n\u001b[0;32m      4\u001b[0m \u001b[38;5;28mprint\u001b[39m(d)\n\u001b[1;32m----> 5\u001b[0m \u001b[38;5;28;01mdel\u001b[39;00m d[\u001b[38;5;241m400\u001b[39m]\n",
      "\u001b[1;31mKeyError\u001b[0m: 400"
     ]
    }
   ],
   "source": [
    "d={100:\"karthi\",200:\"sahasra\",300:\"sri\"}\n",
    "print(d)\n",
    "del d[100]\n",
    "print(d)\n",
    "del d[400]"
   ]
  },
  {
   "cell_type": "code",
   "execution_count": 12,
   "id": "a09e8d40",
   "metadata": {},
   "outputs": [
    {
     "name": "stdout",
     "output_type": "stream",
     "text": [
      "{100: 'karthi', 200: 'sahasra', 300: 'sri'}\n",
      "{}\n"
     ]
    }
   ],
   "source": [
    "#1. clear():\n",
    "d={100:\"karthi\",200:\"sahasra\",300:\"sri\"}\n",
    "print(d)\n",
    "d.clear()\n",
    "print(d)\n",
    "\n"
   ]
  },
  {
   "cell_type": "code",
   "execution_count": 13,
   "id": "a68a9e03",
   "metadata": {},
   "outputs": [
    {
     "name": "stdout",
     "output_type": "stream",
     "text": [
      "{100: 'karthi', 200: 'sahasra', 300: 'sri'}\n"
     ]
    },
    {
     "ename": "NameError",
     "evalue": "name 'd' is not defined",
     "output_type": "error",
     "traceback": [
      "\u001b[1;31m---------------------------------------------------------------------------\u001b[0m",
      "\u001b[1;31mNameError\u001b[0m                                 Traceback (most recent call last)",
      "Cell \u001b[1;32mIn[13], line 6\u001b[0m\n\u001b[0;32m      4\u001b[0m \u001b[38;5;28mprint\u001b[39m(d)\n\u001b[0;32m      5\u001b[0m \u001b[38;5;28;01mdel\u001b[39;00m d\n\u001b[1;32m----> 6\u001b[0m \u001b[38;5;28mprint\u001b[39m(d)\n",
      "\u001b[1;31mNameError\u001b[0m: name 'd' is not defined"
     ]
    }
   ],
   "source": [
    "#2.del:\n",
    "#To delete total dictionary, we can use del command .Now we cannot access dictionary d.\n",
    "d={100:\"karthi\",200:\"sahasra\",300:\"sri\"}\n",
    "print(d)\n",
    "del d\n",
    "print(d) # d can not access so we will get NameError\n"
   ]
  },
  {
   "cell_type": "code",
   "execution_count": 14,
   "id": "a465d1c6",
   "metadata": {},
   "outputs": [
    {
     "name": "stdout",
     "output_type": "stream",
     "text": [
      "{100: ['sourav', 'sachin', 'rahul']}\n"
     ]
    }
   ],
   "source": [
    "list = ['sourav','sachin','rahul']\n",
    "d={100:list} # here, value is a list which cinsists of multiple objects which are a\n",
    "print(d)"
   ]
  },
  {
   "cell_type": "markdown",
   "id": "d511a600",
   "metadata": {},
   "source": [
    "# Modified an elements to a dictionary"
   ]
  },
  {
   "cell_type": "code",
   "execution_count": 9,
   "id": "108200ed",
   "metadata": {},
   "outputs": [
    {
     "name": "stdout",
     "output_type": "stream",
     "text": [
      "{100: 'karthi', 200: 'sahasra', 300: 'sri'}\n",
      "{100: 'karthi', 200: 'sahasra', 300: 'sri', 400: 'sachin'}\n",
      "{100: 'sourav', 200: 'sahasra', 300: 'sri', 400: 'sachin'}\n"
     ]
    }
   ],
   "source": [
    "d={100:\"karthi\",200:\"sahasra\",300:\"sri\"}\n",
    "print(d)\n",
    "d[400]=\"sachin\"\n",
    "print(d)\n",
    "d[100]=\"sourav\"\n",
    "print(d)"
   ]
  },
  {
   "cell_type": "markdown",
   "id": "0290ebf0",
   "metadata": {},
   "source": [
    "# Sets"
   ]
  },
  {
   "cell_type": "markdown",
   "id": "d430bc3b",
   "metadata": {},
   "source": [
    "1. insertion order is not preserved.\n",
    "\n",
    "2. duplicates are not allowed.\n",
    "\n",
    "3. heterogeneous objects are allowed.\n",
    "\n",
    "4. index concept is not applicable.\n",
    "\n",
    "5. It is mutable collection.\n",
    "\n",
    "6. Growable in nature."
   ]
  },
  {
   "cell_type": "markdown",
   "id": "0c2fd5d8",
   "metadata": {},
   "source": [
    "# Creating a Sets"
   ]
  },
  {
   "cell_type": "code",
   "execution_count": 8,
   "id": "5deffc7b",
   "metadata": {},
   "outputs": [
    {
     "name": "stdout",
     "output_type": "stream",
     "text": [
      "<class 'set'>\n"
     ]
    }
   ],
   "source": [
    "s = {10,20,30,40}\n",
    "print(type(s))"
   ]
  },
  {
   "cell_type": "markdown",
   "id": "c3b1aae1",
   "metadata": {},
   "source": [
    "# Adding an element to a sets"
   ]
  },
  {
   "cell_type": "code",
   "execution_count": 3,
   "id": "9127e418",
   "metadata": {},
   "outputs": [
    {
     "name": "stdout",
     "output_type": "stream",
     "text": [
      "{40, 10, 50, 20, 30}\n"
     ]
    }
   ],
   "source": [
    "s = {10,20,30,40}\n",
    "s.add(50)\n",
    "print(s)"
   ]
  },
  {
   "cell_type": "markdown",
   "id": "c734b037",
   "metadata": {},
   "source": [
    "# Removing an elements to a sets"
   ]
  },
  {
   "cell_type": "code",
   "execution_count": 2,
   "id": "e4ef8e46",
   "metadata": {},
   "outputs": [
    {
     "name": "stdout",
     "output_type": "stream",
     "text": [
      "{50, 20, 40, 10}\n"
     ]
    }
   ],
   "source": [
    "s = {10,20,30,40,50}\n",
    "s.remove(30) \n",
    "print(s)"
   ]
  },
  {
   "cell_type": "markdown",
   "id": "dc1c17ed",
   "metadata": {},
   "source": [
    "# Update an elements to a sets"
   ]
  },
  {
   "cell_type": "code",
   "execution_count": 16,
   "id": "70ff3611",
   "metadata": {},
   "outputs": [
    {
     "name": "stdout",
     "output_type": "stream",
     "text": [
      "{'t', 10, 'K', 20, 30, 40, 'i', 50, 'r'}\n"
     ]
    }
   ],
   "source": [
    "s = {10,20,30,40,50}\n",
    "s.update(\"Kriti\")\n",
    "print(s)"
   ]
  },
  {
   "cell_type": "code",
   "execution_count": null,
   "id": "7555d2bb",
   "metadata": {},
   "outputs": [],
   "source": []
  }
 ],
 "metadata": {
  "kernelspec": {
   "display_name": "Python 3 (ipykernel)",
   "language": "python",
   "name": "python3"
  },
  "language_info": {
   "codemirror_mode": {
    "name": "ipython",
    "version": 3
   },
   "file_extension": ".py",
   "mimetype": "text/x-python",
   "name": "python",
   "nbconvert_exporter": "python",
   "pygments_lexer": "ipython3",
   "version": "3.11.5"
  }
 },
 "nbformat": 4,
 "nbformat_minor": 5
}
